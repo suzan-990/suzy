{
 "cells": [
  {
   "cell_type": "code",
   "execution_count": 10,
   "id": "8278d135",
   "metadata": {},
   "outputs": [],
   "source": [
    "import tkinter as tk\n",
    "from tkinter import ttk\n",
    "from tkinter.messagebox import showerror\n",
    "root = tk.Tk()\n",
    "root.title('Temperature Converter')\n",
    "root.geometry('300x70')\n",
    "root.resizable(False, False)\n",
    "def fahrenheit_to_celsius(f):\n",
    "    \"\"\" Convert fahrenheit to celsius\n",
    "    \"\"\"\n",
    "    return (f - 32) * 5/9\n",
    "frame = ttk.Frame(root)\n",
    "options = {'padx': 5, 'pady': 5}\n",
    "temperature_label = ttk.Label(frame, text='Fahrenheit')\n",
    "temperature_label.grid(column=0, row=0, sticky='W', **options)\n",
    "temperature = tk.StringVar()\n",
    "temperature_entry = ttk.Entry(frame, textvariable=temperature)\n",
    "temperature_entry.grid(column=1, row=0, **options)\n",
    "temperature_entry.focus()\n",
    "def convert_button_clicked():\n",
    "    \"\"\"  Handle convert button click event \n",
    "    \"\"\"\n",
    "    try:\n",
    "        f = float(temperature.get())\n",
    "        c = fahrenheit_to_celsius(f)\n",
    "        result = f'{f} Fahrenheit = {c:.2f} Celsius'\n",
    "        result_label.config(text=result)\n",
    "    except ValueError as error:\n",
    "        showerror(title='Error', message=error)\n",
    "convert_button = ttk.Button(frame, text='Convert')\n",
    "convert_button.grid(column=2, row=0, sticky='W', **options)\n",
    "convert_button.configure(command=convert_button_clicked)\n",
    "result_label = ttk.Label(frame)\n",
    "result_label.grid(row=1, columnspan=3, **options)\n",
    "frame.grid(padx=10, pady=10)\n",
    "root.mainloop()"
   ]
  },
  {
   "cell_type": "code",
   "execution_count": null,
   "id": "e09984b4",
   "metadata": {},
   "outputs": [],
   "source": []
  },
  {
   "cell_type": "code",
   "execution_count": null,
   "id": "ebda5d1a",
   "metadata": {},
   "outputs": [],
   "source": []
  }
 ],
 "metadata": {
  "kernelspec": {
   "display_name": "Python 3 (ipykernel)",
   "language": "python",
   "name": "python3"
  },
  "language_info": {
   "codemirror_mode": {
    "name": "ipython",
    "version": 3
   },
   "file_extension": ".py",
   "mimetype": "text/x-python",
   "name": "python",
   "nbconvert_exporter": "python",
   "pygments_lexer": "ipython3",
   "version": "3.9.13"
  }
 },
 "nbformat": 4,
 "nbformat_minor": 5
}
