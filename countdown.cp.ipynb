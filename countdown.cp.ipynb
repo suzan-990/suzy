{
 "cells": [
  {
   "cell_type": "code",
   "execution_count": null,
   "id": "2ba83a99",
   "metadata": {},
   "outputs": [],
   "source": [
    "#question 1"
   ]
  },
  {
   "cell_type": "code",
   "execution_count": 2,
   "id": "5a4ae6a6",
   "metadata": {},
   "outputs": [
    {
     "name": "stdout",
     "output_type": "stream",
     "text": [
      "Enter the time in seconds: 5\n",
      "Fire in the hole!!\n",
      "Fire in the hole!!\n",
      "Fire in the hole!!\n",
      "Fire in the hole!!\n",
      "Fire in the hole!!\n"
     ]
    }
   ],
   "source": [
    "import time\n",
    "def countdown(t):\n",
    "    while t:\n",
    "        mins, secs = divmod(t, 60)\n",
    "        timer = '{:02d}:{:02d}'.format(mins, secs)\n",
    "        print(timer, end=\"\\r\")\n",
    "        time.sleep(1)\n",
    "        t -= 1\n",
    "        print('Fire in the hole!!')\n",
    "t = input(\"Enter the time in seconds: \")\n",
    "countdown(int(t))\n"
   ]
  }
 ],
 "metadata": {
  "kernelspec": {
   "display_name": "Python 3 (ipykernel)",
   "language": "python",
   "name": "python3"
  },
  "language_info": {
   "codemirror_mode": {
    "name": "ipython",
    "version": 3
   },
   "file_extension": ".py",
   "mimetype": "text/x-python",
   "name": "python",
   "nbconvert_exporter": "python",
   "pygments_lexer": "ipython3",
   "version": "3.9.13"
  }
 },
 "nbformat": 4,
 "nbformat_minor": 5
}
