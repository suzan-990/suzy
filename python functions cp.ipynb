{
 "cells": [
  {
   "cell_type": "code",
   "execution_count": null,
   "id": "1b6f1214",
   "metadata": {},
   "outputs": [],
   "source": [
    "#question 1"
   ]
  },
  {
   "cell_type": "code",
   "execution_count": 33,
   "id": "8e7086d9",
   "metadata": {},
   "outputs": [
    {
     "data": {
      "text/plain": [
       "35"
      ]
     },
     "execution_count": 33,
     "metadata": {},
     "output_type": "execute_result"
    }
   ],
   "source": [
    "def max(x,y,z):\n",
    "    \n",
    "    l1=[x,y,z]\n",
    "    l1.sort()\n",
    "    return(l1[-1])\n",
    "\n",
    "\n",
    "\n",
    "max(20,35,19)       "
   ]
  },
  {
   "cell_type": "code",
   "execution_count": 30,
   "id": "99645726",
   "metadata": {},
   "outputs": [],
   "source": [
    "#question 2"
   ]
  },
  {
   "cell_type": "code",
   "execution_count": 32,
   "id": "78fc29bf",
   "metadata": {},
   "outputs": [
    {
     "name": "stdout",
     "output_type": "stream",
     "text": [
      "(50, 30)\n"
     ]
    }
   ],
   "source": [
    "def Calculation (x,y): \n",
    "    z=x+y\n",
    "    m=x-y\n",
    "    return(z,m)\n",
    "print(Calculation(40,10))"
   ]
  },
  {
   "cell_type": "code",
   "execution_count": null,
   "id": "c67d1a61",
   "metadata": {},
   "outputs": [],
   "source": [
    "#question 3"
   ]
  },
  {
   "cell_type": "code",
   "execution_count": 93,
   "id": "ab62c42e",
   "metadata": {},
   "outputs": [],
   "source": [
    "x=[1,2,3,4,5]\n",
    "def addition(l1):\n",
    "    result=0\n",
    "    for i in range(len(l1)):\n",
    "        result=result+l1[i]\n",
    "    return(result)\n",
    "def multiplication(l1):\n",
    "    result=1\n",
    "    for i in range(len(l1)):\n",
    "        result=result*l1[i]\n",
    "    return(result)\n",
    "def function(l1):\n",
    "    a=[]\n",
    "    b=[]\n",
    "    for i in l1:\n",
    "        if i%2==0:\n",
    "            a.append(i)\n",
    "        else:\n",
    "            b.append(i)\n",
    "    print(addition(a))\n",
    "    print(multiplication(b))"
   ]
  },
  {
   "cell_type": "code",
   "execution_count": 94,
   "id": "a8ea448d",
   "metadata": {},
   "outputs": [
    {
     "name": "stdout",
     "output_type": "stream",
     "text": [
      "268\n",
      "3044933775\n"
     ]
    }
   ],
   "source": [
    "function([1,23,423,15,134,65,134,321])"
   ]
  },
  {
   "cell_type": "code",
   "execution_count": null,
   "id": "e5f05938",
   "metadata": {},
   "outputs": [],
   "source": [
    "#question 4"
   ]
  },
  {
   "cell_type": "code",
   "execution_count": 17,
   "id": "de56bace",
   "metadata": {},
   "outputs": [],
   "source": [
    "s = {\"car\":\"ford\",\"model\":\"fusion\"}\n",
    "def capital(x):\n",
    "    result={}\n",
    "    for i in x:\n",
    "        result[i]=x[i][0].upper() + x[i][1:]\n",
    "    return(result)\n"
   ]
  },
  {
   "cell_type": "code",
   "execution_count": 18,
   "id": "1af4d0e4",
   "metadata": {},
   "outputs": [
    {
     "data": {
      "text/plain": [
       "{'car': 'Ford', 'model': 'Fusion'}"
      ]
     },
     "execution_count": 18,
     "metadata": {},
     "output_type": "execute_result"
    }
   ],
   "source": [
    "capital(s)"
   ]
  },
  {
   "cell_type": "code",
   "execution_count": null,
   "id": "1ae51c05",
   "metadata": {},
   "outputs": [],
   "source": [
    "#question 5"
   ]
  },
  {
   "cell_type": "code",
   "execution_count": 52,
   "id": "a8f4f23a",
   "metadata": {},
   "outputs": [
    {
     "data": {
      "text/plain": [
       "6"
      ]
     },
     "execution_count": 52,
     "metadata": {},
     "output_type": "execute_result"
    }
   ],
   "source": [
    "c={\"male\":\"ashraf\",\"female\":\"jana\"}\n",
    "def word (x):\n",
    "    z=0\n",
    "    for i in x:\n",
    "        #print(len(x[i]))  \n",
    "        z=max(len(x[i]),z)\n",
    "    return(z)\n",
    "word(c)        \n",
    "    \n",
    "  "
   ]
  },
  {
   "cell_type": "code",
   "execution_count": null,
   "id": "e89648e5",
   "metadata": {},
   "outputs": [],
   "source": [
    "#question 6"
   ]
  },
  {
   "cell_type": "code",
   "execution_count": 55,
   "id": "a2e5b0ac",
   "metadata": {},
   "outputs": [
    {
     "name": "stdout",
     "output_type": "stream",
     "text": [
      "green-red-yellow-black-white\n",
      "['black', 'green', 'red', 'white', 'yellow']\n"
     ]
    }
   ],
   "source": [
    "x=input()\n",
    "s=x.split('-') \n",
    "s.sort()\n",
    "print(s)"
   ]
  },
  {
   "cell_type": "code",
   "execution_count": null,
   "id": "03a0b2bf",
   "metadata": {},
   "outputs": [],
   "source": []
  }
 ],
 "metadata": {
  "kernelspec": {
   "display_name": "Python 3 (ipykernel)",
   "language": "python",
   "name": "python3"
  },
  "language_info": {
   "codemirror_mode": {
    "name": "ipython",
    "version": 3
   },
   "file_extension": ".py",
   "mimetype": "text/x-python",
   "name": "python",
   "nbconvert_exporter": "python",
   "pygments_lexer": "ipython3",
   "version": "3.9.13"
  }
 },
 "nbformat": 4,
 "nbformat_minor": 5
}
