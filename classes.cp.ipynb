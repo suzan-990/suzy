{
 "cells": [
  {
   "cell_type": "code",
   "execution_count": null,
   "id": "44afdec0",
   "metadata": {},
   "outputs": [],
   "source": [
    "#question 1"
   ]
  },
  {
   "cell_type": "code",
   "execution_count": 9,
   "id": "43719625",
   "metadata": {},
   "outputs": [
    {
     "name": "stdout",
     "output_type": "stream",
     "text": [
      "1,2,3\n"
     ]
    }
   ],
   "source": [
    "class Point3D:\n",
    "    def __init__(self,x,y,z):\n",
    "        self.x = x\n",
    "        self.y = y\n",
    "        self.z = z\n",
    "    def my_point(self):\n",
    "        return \"{},{},{}\".format(self.x,self.y,self.z)\n",
    "\n",
    "g=Point3D(1,2,3)\n",
    "print(g.my_point())                    "
   ]
  },
  {
   "cell_type": "code",
   "execution_count": null,
   "id": "24918a6d",
   "metadata": {},
   "outputs": [],
   "source": [
    "#question 2"
   ]
  },
  {
   "cell_type": "code",
   "execution_count": 11,
   "id": "fc91b2ec",
   "metadata": {},
   "outputs": [
    {
     "name": "stdout",
     "output_type": "stream",
     "text": [
      "12\n",
      "14\n"
     ]
    }
   ],
   "source": [
    "class Rectangle:\n",
    "    def __init__(self,length,width):\n",
    "        self.l=length\n",
    "        self.w=width\n",
    "    def area(self):\n",
    "        return self.l * self.w\n",
    "    def perimeter(self):\n",
    "        return 2*(self.l + self.w)\n",
    "my_rectangle = Rectangle(3,4) \n",
    "print(my_rectangle.area())\n",
    "print(my_rectangle.perimeter())\n",
    "    "
   ]
  },
  {
   "cell_type": "code",
   "execution_count": null,
   "id": "b2c1e3a1",
   "metadata": {},
   "outputs": [],
   "source": [
    "#question 3"
   ]
  },
  {
   "cell_type": "code",
   "execution_count": 25,
   "id": "0f0cc331",
   "metadata": {},
   "outputs": [
    {
     "data": {
      "text/plain": [
       "'no'"
      ]
     },
     "execution_count": 25,
     "metadata": {},
     "output_type": "execute_result"
    }
   ],
   "source": [
    "import math\n",
    "class Circle:\n",
    "    def __init__(self,center,radius):\n",
    "        self.o=center\n",
    "        self.r=radius\n",
    "    def area(self):\n",
    "        return math.pi*self.r**2\n",
    "    def perimeter(self):\n",
    "        return 2*math.pi*self.r \n",
    "    def isinside(self,z):\n",
    "        \n",
    "        if math.sqrt((z[0]-self.o[0])**2 + (z[1]- self.o[1])**2) > self.r:\n",
    "            return \"no\"\n",
    "        else:\n",
    "            return \"yes\"\n",
    "\n",
    "x=Circle([9,8],3)   \n",
    "x.isinside((3,5))\n"
   ]
  },
  {
   "cell_type": "code",
   "execution_count": null,
   "id": "fd49e6e7",
   "metadata": {},
   "outputs": [],
   "source": [
    "#question 4"
   ]
  },
  {
   "cell_type": "code",
   "execution_count": 3,
   "id": "ae6279a3",
   "metadata": {},
   "outputs": [],
   "source": [
    "class Bank:\n",
    "    def __init__(self,balance):\n",
    "        self.b=balance\n",
    "    def deposit(self):\n",
    "        return deposit+self.b\n",
    "    def withdraw(self):\n",
    "        return self.b- withdraw\n",
    "    \n",
    "    \n",
    "\n",
    "    \n",
    "    "
   ]
  }
 ],
 "metadata": {
  "kernelspec": {
   "display_name": "Python 3 (ipykernel)",
   "language": "python",
   "name": "python3"
  },
  "language_info": {
   "codemirror_mode": {
    "name": "ipython",
    "version": 3
   },
   "file_extension": ".py",
   "mimetype": "text/x-python",
   "name": "python",
   "nbconvert_exporter": "python",
   "pygments_lexer": "ipython3",
   "version": "3.9.13"
  }
 },
 "nbformat": 4,
 "nbformat_minor": 5
}
