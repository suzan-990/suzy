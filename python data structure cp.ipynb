{
 "cells": [
  {
   "cell_type": "code",
   "execution_count": null,
   "id": "01d80377",
   "metadata": {},
   "outputs": [],
   "source": [
    "#question 1"
   ]
  },
  {
   "cell_type": "code",
   "execution_count": 13,
   "id": "41a2ef6c",
   "metadata": {},
   "outputs": [
    {
     "name": "stdout",
     "output_type": "stream",
     "text": [
      "36\n"
     ]
    }
   ],
   "source": [
    "x=[2,3,6]\n",
    "result=1\n",
    "for i in range(len(x)):\n",
    "    result=result*x[i]\n",
    "print (result)"
   ]
  },
  {
   "cell_type": "code",
   "execution_count": null,
   "id": "478a905d",
   "metadata": {},
   "outputs": [],
   "source": [
    "#question 2"
   ]
  },
  {
   "cell_type": "code",
   "execution_count": 26,
   "id": "4b19ed9a",
   "metadata": {},
   "outputs": [
    {
     "name": "stdout",
     "output_type": "stream",
     "text": [
      "[(2, 1), (1, 2), (2, 3), (4, 4), (2, 5)]\n"
     ]
    }
   ],
   "source": [
    "x= [(2, 5), (1, 2), (4, 4), (2, 3), (2, 1)]\n",
    "def last (n):\n",
    "    return n[-1]\n",
    "def sort (tuples):\n",
    "    return sorted (tuples,key=last)\n",
    "print(sort(x))\n"
   ]
  },
  {
   "cell_type": "code",
   "execution_count": 22,
   "id": "48cec740",
   "metadata": {},
   "outputs": [],
   "source": [
    "#question 3"
   ]
  },
  {
   "cell_type": "code",
   "execution_count": 62,
   "id": "4ea98b93",
   "metadata": {
    "scrolled": true
   },
   "outputs": [
    {
     "name": "stdout",
     "output_type": "stream",
     "text": [
      "{'a': 400, 'b': 400, 'c': 300, 'd': 400}\n"
     ]
    }
   ],
   "source": [
    "d1= {'a': 100, 'b': 200, 'c':300}\n",
    "d2= {'a': 300, 'b': 200, 'd':400}\n",
    "for key in d1:\n",
    "    if key in d2:\n",
    "        d1[key]=d1[key]+d2[key]\n",
    "    else:\n",
    "        pass\n",
    "d1[\"d\"]=400\n",
    "print(d1)\n",
    "    #x=d1|d2\n",
    "#print(x.keys())\n"
   ]
  },
  {
   "cell_type": "code",
   "execution_count": 61,
   "id": "18d66215",
   "metadata": {},
   "outputs": [],
   "source": [
    "#question 4"
   ]
  },
  {
   "cell_type": "code",
   "execution_count": 57,
   "id": "ed1bc412",
   "metadata": {},
   "outputs": [
    {
     "name": "stdout",
     "output_type": "stream",
     "text": [
      "8\n",
      "{1: 1, 2: 4, 3: 9, 4: 16, 5: 25, 6: 36, 7: 49, 8: 64}\n"
     ]
    }
   ],
   "source": [
    "x=int(input())\n",
    "d1={}\n",
    "for i in range (1,x+1):\n",
    "    d1[i] = i*i\n",
    "    \n",
    "print(d1)\n"
   ]
  },
  {
   "cell_type": "code",
   "execution_count": null,
   "id": "d460cf0a",
   "metadata": {},
   "outputs": [],
   "source": [
    "#question 5"
   ]
  },
  {
   "cell_type": "code",
   "execution_count": 91,
   "id": "b2dd64e5",
   "metadata": {
    "scrolled": true
   },
   "outputs": [],
   "source": [
    "x=[ ('item2', '15.10'),('item1', '12.20'), ('item3', '24.5')]\n",
    "def last (n):\n",
    "    return float(n[-1])\n",
    "def sort (tuples):\n",
    "    return sorted(x,key=last)\n",
    "    x.reverse()\n",
    "    \n",
    "    print (sorted(x))\n"
   ]
  },
  {
   "cell_type": "code",
   "execution_count": null,
   "id": "9546a6a9",
   "metadata": {},
   "outputs": [],
   "source": [
    "#question 6"
   ]
  },
  {
   "cell_type": "code",
   "execution_count": 95,
   "id": "b8ccb481",
   "metadata": {},
   "outputs": [
    {
     "name": "stdout",
     "output_type": "stream",
     "text": [
      "0\n",
      "1\n",
      "2\n",
      "3\n",
      "4\n",
      "{0, 1, 2, 3, 4, 'suzan'}\n",
      "{1, 2, 3, 4, 'suzan'}\n"
     ]
    }
   ],
   "source": [
    "s= {0, 1, 2, 3, 4}\n",
    "for i in s:\n",
    "    print(i)\n",
    "s.add(\"suzan\")\n",
    "print (s)\n",
    "s.remove(0)\n",
    "print(s)"
   ]
  },
  {
   "cell_type": "code",
   "execution_count": null,
   "id": "9061c038",
   "metadata": {},
   "outputs": [],
   "source": []
  }
 ],
 "metadata": {
  "kernelspec": {
   "display_name": "Python 3 (ipykernel)",
   "language": "python",
   "name": "python3"
  },
  "language_info": {
   "codemirror_mode": {
    "name": "ipython",
    "version": 3
   },
   "file_extension": ".py",
   "mimetype": "text/x-python",
   "name": "python",
   "nbconvert_exporter": "python",
   "pygments_lexer": "ipython3",
   "version": "3.9.13"
  }
 },
 "nbformat": 4,
 "nbformat_minor": 5
}
